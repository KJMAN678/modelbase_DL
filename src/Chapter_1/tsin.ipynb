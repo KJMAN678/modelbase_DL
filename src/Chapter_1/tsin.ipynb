{
 "cells": [
  {
   "cell_type": "markdown",
   "id": "b3330880-33b6-45b6-96b6-034e4d71cedf",
   "metadata": {},
   "source": [
    "# Fluxによる自動微分機構の利用例\n",
    "\n",
    "\\begin{align}\n",
    "\t\\sin(x) = x - \\frac{x^3}{3!} + \\frac{x^5}{5!} - \\cdots (-1)^i \\frac{x^{2i+1}}{(2i+1)!} + \\cdots\n",
    "\\end{align}\n",
    "\n",
    "を打ち切って得られる\n",
    "\\begin{align}\n",
    "\t\\mbox{tsin}(x) \\equiv x - \\frac{x^3}{3!} + \\frac{x^5}{5!} - \\cdots (-1)^n \\frac{x^{2n+1}}{(2n+1)!}\n",
    "\\end{align}\n",
    "について自動微分を行う。\n",
    "\n",
    "Copyright (c) 2022 Tadashi Wadayama  \n",
    "Released under the MIT license  \n",
    "https://opensource.org/licenses/mit-license.php"
   ]
  },
  {
   "cell_type": "code",
   "execution_count": 1,
   "id": "3101baee-ca87-4c7e-ad16-b3efb7bf6b80",
   "metadata": {},
   "outputs": [
    {
     "ename": "LoadError",
     "evalue": "ArgumentError: Package Flux not found in current path.\n- Run `import Pkg; Pkg.add(\"Flux\")` to install the Flux package.",
     "output_type": "error",
     "traceback": [
      "ArgumentError: Package Flux not found in current path.\n- Run `import Pkg; Pkg.add(\"Flux\")` to install the Flux package.",
      "",
      "Stacktrace:",
      " [1] macro expansion",
      "   @ ./loading.jl:1630 [inlined]",
      " [2] macro expansion",
      "   @ ./lock.jl:267 [inlined]",
      " [3] require(into::Module, mod::Symbol)",
      "   @ Base ./loading.jl:1611"
     ]
    }
   ],
   "source": [
    "using Plots\n",
    "using Flux\n",
    "gr()"
   ]
  },
  {
   "cell_type": "markdown",
   "id": "5b47ed69-e7a6-4614-95e1-0206928b1bc1",
   "metadata": {},
   "source": [
    "## $\\mbox{tsin}(x)$の定義"
   ]
  },
  {
   "cell_type": "code",
   "execution_count": 2,
   "id": "3a8dce13-4a65-4dad-86f8-b47ec13f204e",
   "metadata": {},
   "outputs": [
    {
     "data": {
      "text/plain": [
       "tsin (generic function with 1 method)"
      ]
     },
     "execution_count": 2,
     "metadata": {},
     "output_type": "execute_result"
    }
   ],
   "source": [
    "function tsin(x)\n",
    "    sum = 0.0\n",
    "    n = 8\n",
    "    for i in 0:n\n",
    "        if i % 2 == 0\n",
    "            sum += (1.0/factorial(2*i+1))*x^(2*i+1)\n",
    "        else\n",
    "            sum += -(1.0/factorial(2*i+1))*x^(2*i+1)\n",
    "        end\n",
    "    end\n",
    "    return sum\n",
    "end     "
   ]
  },
  {
   "cell_type": "markdown",
   "id": "6e6c5e86-2867-4bfb-98af-0ea32b656bd9",
   "metadata": {},
   "source": [
    "## $\\mbox{tsin}(x)$の導関数"
   ]
  },
  {
   "cell_type": "code",
   "execution_count": 3,
   "id": "be193e55-16c0-4cc8-b953-10e7b2bb4d8a",
   "metadata": {},
   "outputs": [
    {
     "data": {
      "text/plain": [
       "d_tsin (generic function with 1 method)"
      ]
     },
     "execution_count": 3,
     "metadata": {},
     "output_type": "execute_result"
    }
   ],
   "source": [
    "d_tsin(x) = Flux.gradient(tsin, x)[1] # derivative of tsin(x)"
   ]
  },
  {
   "cell_type": "markdown",
   "id": "555912e4-c68d-4d6f-ae5e-aa2dc60874f2",
   "metadata": {},
   "source": [
    "## 各関数のプロット"
   ]
  },
  {
   "cell_type": "code",
   "execution_count": 4,
   "id": "a760328c-ad2b-4455-ba33-a1d38e22d0a6",
   "metadata": {},
   "outputs": [
    {
     "ename": "LoadError",
     "evalue": "UndefVarError: `Flux` not defined",
     "output_type": "error",
     "traceback": [
      "UndefVarError: `Flux` not defined",
      "",
      "Stacktrace:",
      "  [1] d_tsin(x::Float64)",
      "    @ Main ./In[3]:1",
      "  [2] call_composed (repeats 2 times)",
      "    @ ./operators.jl:1034 [inlined]",
      "  [3] (::ComposedFunction{ComposedFunction{RecipesPipeline.var\"#1#2\"{Symbol}, typeof(d_tsin)}, RecipesPipeline.var\"#3#4\"{Symbol}})(x::Float64; kw::Base.Pairs{Symbol, Union{}, Tuple{}, NamedTuple{(), Tuple{}}})",
      "    @ Base ./operators.jl:1031",
      "  [4] ComposedFunction",
      "    @ ./operators.jl:1031 [inlined]",
      "  [5] (::PlotUtils.var\"#21#23\"{ComposedFunction{ComposedFunction{RecipesPipeline.var\"#1#2\"{Symbol}, typeof(d_tsin)}, RecipesPipeline.var\"#3#4\"{Symbol}}})(x::Float64)",
      "    @ PlotUtils ~/.julia/packages/PlotUtils/mHQ0Q/src/adapted_grid.jl:49",
      "  [6] _broadcast_getindex_evalf",
      "    @ ./broadcast.jl:683 [inlined]",
      "  [7] _broadcast_getindex",
      "    @ ./broadcast.jl:656 [inlined]",
      "  [8] getindex",
      "    @ ./broadcast.jl:610 [inlined]",
      "  [9] copy",
      "    @ ./broadcast.jl:912 [inlined]",
      " [10] materialize(bc::Base.Broadcast.Broadcasted{Base.Broadcast.DefaultArrayStyle{1}, Nothing, PlotUtils.var\"#21#23\"{ComposedFunction{ComposedFunction{RecipesPipeline.var\"#1#2\"{Symbol}, typeof(d_tsin)}, RecipesPipeline.var\"#3#4\"{Symbol}}}, Tuple{Vector{Float64}}})",
      "    @ Base.Broadcast ./broadcast.jl:873",
      " [11] adapted_grid(f::Any, minmax::Tuple{Float64, Float64}; max_recursions::Int64, max_curvature::Float64, n_points::Int64)",
      "    @ PlotUtils ~/.julia/packages/PlotUtils/mHQ0Q/src/adapted_grid.jl:60",
      " [12] adapted_grid(f::Any, minmax::Tuple{Float64, Float64})",
      "    @ PlotUtils ~/.julia/packages/PlotUtils/mHQ0Q/src/adapted_grid.jl:14",
      " [13] _scaled_adapted_grid(f::Function, xscale::Symbol, yscale::Symbol, xmin::Float64, xmax::Float64)",
      "    @ RecipesPipeline ~/.julia/packages/RecipesPipeline/BGM3l/src/user_recipe.jl:322",
      " [14] macro expansion",
      "    @ ~/.julia/packages/RecipesPipeline/BGM3l/src/user_recipe.jl:265 [inlined]",
      " [15] apply_recipe(plotattributes::AbstractDict{Symbol, Any}, f::Function, xmin::Number, xmax::Number)",
      "    @ RecipesPipeline ~/.julia/packages/RecipesBase/BRe07/src/RecipesBase.jl:300",
      " [16] _process_userrecipes!(plt::Any, plotattributes::Any, args::Any)",
      "    @ RecipesPipeline ~/.julia/packages/RecipesPipeline/BGM3l/src/user_recipe.jl:38",
      " [17] recipe_pipeline!(plt::Any, plotattributes::Any, args::Any)",
      "    @ RecipesPipeline ~/.julia/packages/RecipesPipeline/BGM3l/src/RecipesPipeline.jl:72",
      " [18] _plot!(plt::Plots.Plot, plotattributes::Any, args::Any)",
      "    @ Plots ~/.julia/packages/Plots/rz1WP/src/plot.jl:223",
      " [19] plot!(plt::Plots.Plot, args::Any; kw::Base.Pairs{Symbol, V, Tuple{Vararg{Symbol, N}}, NamedTuple{names, T}} where {V, N, names, T<:Tuple{Vararg{Any, N}}})",
      "    @ Plots ~/.julia/packages/Plots/rz1WP/src/plot.jl:213",
      " [20] plot!(args::Any; kw::Base.Pairs{Symbol, V, Tuple{Vararg{Symbol, N}}, NamedTuple{names, T}} where {V, N, names, T<:Tuple{Vararg{Any, N}}})",
      "    @ Plots ~/.julia/packages/Plots/rz1WP/src/plot.jl:202",
      " [21] top-level scope",
      "    @ In[4]:4"
     ]
    }
   ],
   "source": [
    "plot(sin, label=\"sin(x)\", lw=1, color=:black, xlabel=\"x\")\n",
    "plot!(tsin, label=\"truncated_sin(x)\", marker=:o, color=:black)\n",
    "plot!(cos, label=\"cos(x)\", lw=1, color=:black, ls=:dash)\n",
    "plot!(d_tsin, label=\"derivative of truncated_sin(x)\", lw=1, marker=:x, color=:black, ls=:dash)"
   ]
  },
  {
   "cell_type": "code",
   "execution_count": 5,
   "id": "6934bf42-626d-4cef-8ba0-9918de563dee",
   "metadata": {},
   "outputs": [
    {
     "data": {
      "text/plain": [
       "\"/Users/koji/data/modelbase/src/Chapter_1/tsin.pdf\""
      ]
     },
     "execution_count": 5,
     "metadata": {},
     "output_type": "execute_result"
    }
   ],
   "source": [
    "savefig(\"tsin.pdf\")"
   ]
  }
 ],
 "metadata": {
  "kernelspec": {
   "display_name": "Julia 1.9.2",
   "language": "julia",
   "name": "julia-1.9"
  },
  "language_info": {
   "file_extension": ".jl",
   "mimetype": "application/julia",
   "name": "julia",
   "version": "1.9.2"
  }
 },
 "nbformat": 4,
 "nbformat_minor": 5
}
